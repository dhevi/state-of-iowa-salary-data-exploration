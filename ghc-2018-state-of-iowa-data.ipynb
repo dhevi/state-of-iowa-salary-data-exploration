{
 "cells": [
  {
   "cell_type": "code",
   "execution_count": 25,
   "metadata": {
    "collapsed": true
   },
   "outputs": [],
   "source": [
    "import pandas as pd\n",
    "import matplotlib.pyplot as plt"
   ]
  },
  {
   "cell_type": "code",
   "execution_count": 26,
   "metadata": {
    "collapsed": true
   },
   "outputs": [],
   "source": [
    "iowa_data = pd.read_csv(\"/nas/dft/ire/dhevir/State_of_Iowa_Salary_Book.csv\")"
   ]
  },
  {
   "cell_type": "code",
   "execution_count": 27,
   "metadata": {},
   "outputs": [
    {
     "data": {
      "text/html": [
       "<div>\n",
       "<style>\n",
       "    .dataframe thead tr:only-child th {\n",
       "        text-align: right;\n",
       "    }\n",
       "\n",
       "    .dataframe thead th {\n",
       "        text-align: left;\n",
       "    }\n",
       "\n",
       "    .dataframe tbody tr th {\n",
       "        vertical-align: top;\n",
       "    }\n",
       "</style>\n",
       "<table border=\"1\" class=\"dataframe\">\n",
       "  <thead>\n",
       "    <tr style=\"text-align: right;\">\n",
       "      <th></th>\n",
       "      <th>Fiscal Year</th>\n",
       "      <th>Department</th>\n",
       "      <th>Agency/Institution</th>\n",
       "      <th>Name</th>\n",
       "      <th>Gender</th>\n",
       "      <th>Place of Residence</th>\n",
       "      <th>Position</th>\n",
       "      <th>Base Salary</th>\n",
       "      <th>Base Salary Date</th>\n",
       "      <th>Total Salary Paid</th>\n",
       "      <th>Travel &amp; Subsistence</th>\n",
       "    </tr>\n",
       "  </thead>\n",
       "  <tbody>\n",
       "    <tr>\n",
       "      <th>0</th>\n",
       "      <td>2007</td>\n",
       "      <td>Administrative Services, Department of</td>\n",
       "      <td>NaN</td>\n",
       "      <td>ABELS BEVERLY J</td>\n",
       "      <td>F</td>\n",
       "      <td>POLK</td>\n",
       "      <td>ADVANCED PERSONNEL MGMT</td>\n",
       "      <td>31.62 HR</td>\n",
       "      <td>07/01/2007 12:00:00 AM</td>\n",
       "      <td>$6462.34</td>\n",
       "      <td>NaN</td>\n",
       "    </tr>\n",
       "    <tr>\n",
       "      <th>1</th>\n",
       "      <td>2007</td>\n",
       "      <td>Administrative Services, Department of</td>\n",
       "      <td>NaN</td>\n",
       "      <td>ABRAMS JERRY A</td>\n",
       "      <td>M</td>\n",
       "      <td>WAPELLO</td>\n",
       "      <td>EARLY OUT POSITION</td>\n",
       "      <td>TERMINATED</td>\n",
       "      <td>07/01/2007 12:00:00 AM</td>\n",
       "      <td>$4242.82</td>\n",
       "      <td>NaN</td>\n",
       "    </tr>\n",
       "    <tr>\n",
       "      <th>2</th>\n",
       "      <td>2007</td>\n",
       "      <td>Administrative Services, Department of</td>\n",
       "      <td>NaN</td>\n",
       "      <td>ADAMS CAROL L</td>\n",
       "      <td>F</td>\n",
       "      <td>MITCHELL</td>\n",
       "      <td>ADVANCED PERSONNEL MGMT</td>\n",
       "      <td>2,212.80 BW</td>\n",
       "      <td>07/01/2007 12:00:00 AM</td>\n",
       "      <td>$55065.60</td>\n",
       "      <td>$924.44</td>\n",
       "    </tr>\n",
       "    <tr>\n",
       "      <th>3</th>\n",
       "      <td>2007</td>\n",
       "      <td>Administrative Services, Department of</td>\n",
       "      <td>NaN</td>\n",
       "      <td>ADAMS JEANNIE R</td>\n",
       "      <td>F</td>\n",
       "      <td>POLK</td>\n",
       "      <td>ACCOUNTING TECHNICIAN 2</td>\n",
       "      <td>1,226.40 BW</td>\n",
       "      <td>07/01/2007 12:00:00 AM</td>\n",
       "      <td>$30800.83</td>\n",
       "      <td>$6.80</td>\n",
       "    </tr>\n",
       "    <tr>\n",
       "      <th>4</th>\n",
       "      <td>2007</td>\n",
       "      <td>Administrative Services, Department of</td>\n",
       "      <td>NaN</td>\n",
       "      <td>ADAMS NED J</td>\n",
       "      <td>M</td>\n",
       "      <td>POLK</td>\n",
       "      <td>EARLY OUT POSITION</td>\n",
       "      <td>TERMINATED</td>\n",
       "      <td>07/01/2007 12:00:00 AM</td>\n",
       "      <td>$10634.33</td>\n",
       "      <td>NaN</td>\n",
       "    </tr>\n",
       "  </tbody>\n",
       "</table>\n",
       "</div>"
      ],
      "text/plain": [
       "   Fiscal Year                               Department Agency/Institution  \\\n",
       "0         2007  Administrative Services, Department of                 NaN   \n",
       "1         2007  Administrative Services, Department of                 NaN   \n",
       "2         2007  Administrative Services, Department of                 NaN   \n",
       "3         2007  Administrative Services, Department of                 NaN   \n",
       "4         2007  Administrative Services, Department of                 NaN   \n",
       "\n",
       "              Name Gender Place of Residence                 Position  \\\n",
       "0  ABELS BEVERLY J      F               POLK  ADVANCED PERSONNEL MGMT   \n",
       "1   ABRAMS JERRY A      M            WAPELLO       EARLY OUT POSITION   \n",
       "2    ADAMS CAROL L      F           MITCHELL  ADVANCED PERSONNEL MGMT   \n",
       "3  ADAMS JEANNIE R      F               POLK  ACCOUNTING TECHNICIAN 2   \n",
       "4      ADAMS NED J      M               POLK       EARLY OUT POSITION   \n",
       "\n",
       "   Base Salary        Base Salary Date Total Salary Paid Travel & Subsistence  \n",
       "0     31.62 HR  07/01/2007 12:00:00 AM          $6462.34                  NaN  \n",
       "1   TERMINATED  07/01/2007 12:00:00 AM          $4242.82                  NaN  \n",
       "2  2,212.80 BW  07/01/2007 12:00:00 AM         $55065.60              $924.44  \n",
       "3  1,226.40 BW  07/01/2007 12:00:00 AM         $30800.83                $6.80  \n",
       "4   TERMINATED  07/01/2007 12:00:00 AM         $10634.33                  NaN  "
      ]
     },
     "execution_count": 27,
     "metadata": {},
     "output_type": "execute_result"
    }
   ],
   "source": [
    "# quick glimpse of data\n",
    "iowa_data.head()"
   ]
  },
  {
   "cell_type": "code",
   "execution_count": 28,
   "metadata": {},
   "outputs": [
    {
     "data": {
      "text/plain": [
       "(665325, 11)"
      ]
     },
     "execution_count": 28,
     "metadata": {},
     "output_type": "execute_result"
    }
   ],
   "source": [
    "# 665,325 rows and 11 columns\n",
    "iowa_data.shape"
   ]
  },
  {
   "cell_type": "code",
   "execution_count": 29,
   "metadata": {},
   "outputs": [],
   "source": [
    "# parse salary paid field\n",
    "iowa_data[\"Total Salary Paid\"] = iowa_data[\"Total Salary Paid\"].replace('[\\$]', '', regex=True).astype(float)"
   ]
  },
  {
   "cell_type": "code",
   "execution_count": 30,
   "metadata": {},
   "outputs": [
    {
     "data": {
      "text/plain": [
       "count    6.646900e+05\n",
       "mean     4.994664e+04\n",
       "std      4.624053e+04\n",
       "min     -5.726300e+02\n",
       "25%      2.593123e+04\n",
       "50%      4.653680e+04\n",
       "75%      6.316587e+04\n",
       "max      5.075000e+06\n",
       "Name: Total Salary Paid, dtype: float64"
      ]
     },
     "execution_count": 30,
     "metadata": {},
     "output_type": "execute_result"
    }
   ],
   "source": [
    "# let's look at some summary statistics on the salary paid field\n",
    "# note that:\n",
    "# - we're missing some data (count is less than row count)\n",
    "# - there are negative values\n",
    "iowa_data[\"Total Salary Paid\"].describe()"
   ]
  },
  {
   "cell_type": "code",
   "execution_count": 31,
   "metadata": {},
   "outputs": [
    {
     "data": {
      "text/html": [
       "<div>\n",
       "<style>\n",
       "    .dataframe thead tr:only-child th {\n",
       "        text-align: right;\n",
       "    }\n",
       "\n",
       "    .dataframe thead th {\n",
       "        text-align: left;\n",
       "    }\n",
       "\n",
       "    .dataframe tbody tr th {\n",
       "        vertical-align: top;\n",
       "    }\n",
       "</style>\n",
       "<table border=\"1\" class=\"dataframe\">\n",
       "  <thead>\n",
       "    <tr style=\"text-align: right;\">\n",
       "      <th></th>\n",
       "      <th>Fiscal Year</th>\n",
       "      <th>Department</th>\n",
       "      <th>Agency/Institution</th>\n",
       "      <th>Name</th>\n",
       "      <th>Gender</th>\n",
       "      <th>Place of Residence</th>\n",
       "      <th>Position</th>\n",
       "      <th>Base Salary</th>\n",
       "      <th>Base Salary Date</th>\n",
       "      <th>Total Salary Paid</th>\n",
       "      <th>Travel &amp; Subsistence</th>\n",
       "    </tr>\n",
       "  </thead>\n",
       "  <tbody>\n",
       "    <tr>\n",
       "      <th>122113</th>\n",
       "      <td>2008</td>\n",
       "      <td>University of Iowa</td>\n",
       "      <td>NaN</td>\n",
       "      <td>TOWNE,ANGELA JO</td>\n",
       "      <td>F</td>\n",
       "      <td>OBRIEN</td>\n",
       "      <td>Staff Nurse</td>\n",
       "      <td>NaN</td>\n",
       "      <td>07/01/2008 12:00:00 AM</td>\n",
       "      <td>-572.63</td>\n",
       "      <td>$36.25</td>\n",
       "    </tr>\n",
       "    <tr>\n",
       "      <th>176062</th>\n",
       "      <td>2009</td>\n",
       "      <td>University of Iowa</td>\n",
       "      <td>NaN</td>\n",
       "      <td>LIU,CHEN</td>\n",
       "      <td>M</td>\n",
       "      <td>HUDSON</td>\n",
       "      <td>Scholar/Trainee</td>\n",
       "      <td>NaN</td>\n",
       "      <td>07/01/2009 12:00:00 AM</td>\n",
       "      <td>-500.00</td>\n",
       "      <td>$198.50</td>\n",
       "    </tr>\n",
       "  </tbody>\n",
       "</table>\n",
       "</div>"
      ],
      "text/plain": [
       "        Fiscal Year          Department Agency/Institution             Name  \\\n",
       "122113         2008  University of Iowa                NaN  TOWNE,ANGELA JO   \n",
       "176062         2009  University of Iowa                NaN         LIU,CHEN   \n",
       "\n",
       "       Gender Place of Residence         Position Base Salary  \\\n",
       "122113      F             OBRIEN      Staff Nurse         NaN   \n",
       "176062      M             HUDSON  Scholar/Trainee         NaN   \n",
       "\n",
       "              Base Salary Date  Total Salary Paid Travel & Subsistence  \n",
       "122113  07/01/2008 12:00:00 AM            -572.63               $36.25  \n",
       "176062  07/01/2009 12:00:00 AM            -500.00              $198.50  "
      ]
     },
     "execution_count": 31,
     "metadata": {},
     "output_type": "execute_result"
    }
   ],
   "source": [
    "# potentially bad data points\n",
    "iowa_data[iowa_data[\"Total Salary Paid\"] < 0]"
   ]
  },
  {
   "cell_type": "code",
   "execution_count": 32,
   "metadata": {
    "collapsed": true
   },
   "outputs": [],
   "source": [
    "# let's drop the negative salaries\n",
    "iowa_data = iowa_data[iowa_data[\"Total Salary Paid\"] >= 0]"
   ]
  },
  {
   "cell_type": "code",
   "execution_count": 33,
   "metadata": {},
   "outputs": [
    {
     "data": {
      "image/png": "[encoded data removed]",
      "text/plain": [
       "<matplotlib.figure.Figure at 0x7f8b6aaa0dd8>"
      ]
     },
     "metadata": {},
     "output_type": "display_data"
    }
   ],
   "source": [
    "# and plot a histogram of the salaries\n",
    "salaries = iowa_data[\"Total Salary Paid\"].dropna()\n",
    "n, bins, patches = plt.hist(salaries, bins=100, log=True)\n",
    "\n",
    "plt.xlabel(\"salary in $\")\n",
    "plt.ylabel(\"log of frequency\")\n",
    "plt.title(\"Log Frequencies of Salaries\")\n",
    "plt.grid(True)\n",
    "plt.show()"
   ]
  },
  {
   "cell_type": "code",
   "execution_count": 34,
   "metadata": {},
   "outputs": [
    {
     "data": {
      "text/plain": [
       "{nan, 'FM', 'm', 'U', 'M', '*', 'F'}"
      ]
     },
     "execution_count": 34,
     "metadata": {},
     "output_type": "execute_result"
    }
   ],
   "source": [
    "# looks like we should also normalize the Gender column (e.g. M should be the same as m)\n",
    "set(iowa_data[\"Gender\"])"
   ]
  },
  {
   "cell_type": "code",
   "execution_count": 35,
   "metadata": {
    "collapsed": true
   },
   "outputs": [],
   "source": [
    "def gender_func(val):\n",
    "    if type(val) is not str:\n",
    "        return 'unknown'\n",
    "    lower_cased = val.lower()\n",
    "    if lower_cased == 'm' or lower_cased == 'f':\n",
    "        return lower_cased\n",
    "    else:\n",
    "        return 'unknown'\n",
    "    \n",
    "iowa_data[\"Gender\"] = iowa_data[\"Gender\"].apply(gender_func)"
   ]
  },
  {
   "cell_type": "code",
   "execution_count": 36,
   "metadata": {},
   "outputs": [
    {
     "data": {
      "image/png": "[encoded data removed]",
      "text/plain": [
       "<matplotlib.figure.Figure at 0x7f8b8f53bb00>"
      ]
     },
     "metadata": {},
     "output_type": "display_data"
    }
   ],
   "source": [
    "n, bins, patches = plt.hist(iowa_data[iowa_data[\"Gender\"] == 'm'][\"Total Salary Paid\"].dropna(), alpha=0.5, label='m', bins=100, log=True)\n",
    "n, bins, patches = plt.hist(iowa_data[iowa_data[\"Gender\"] == 'f'][\"Total Salary Paid\"].dropna(), alpha=0.5, label='f', bins=100, log=True)\n",
    "n, bins, patches = plt.hist(iowa_data[iowa_data[\"Gender\"] == 'unknown'][\"Total Salary Paid\"].dropna(), alpha=0.5, label='unknown', bins=100, log=True)\n",
    "\n",
    "plt.xlabel(\"salary in $\")\n",
    "plt.ylabel(\"log of frequency\")\n",
    "plt.title(\"Log Frequencies of Salaries\")\n",
    "plt.legend()\n",
    "plt.grid(True)\n",
    "plt.show()\n"
   ]
  },
  {
   "cell_type": "code",
   "execution_count": 39,
   "metadata": {},
   "outputs": [
    {
     "data": {
      "image/png": "[encoded data removed]",
      "text/plain": [
       "<matplotlib.figure.Figure at 0x7f8b8f6100b8>"
      ]
     },
     "metadata": {},
     "output_type": "display_data"
    }
   ],
   "source": [
    "# Use year column to plot average salaries over time for m, f, unknown\n",
    "avg_grouped = iowa_data.groupby([\"Fiscal Year\", \"Gender\"]).mean()\n",
    "avg_data = avg_grouped.reset_index()\n",
    "\n",
    "f_avgs = avg_data[avg_data[\"Gender\"] == 'f']\n",
    "plt.plot(f_avgs[\"Fiscal Year\"], f_avgs[\"Total Salary Paid\"], label='Women')\n",
    "m_avgs = avg_data[avg_data[\"Gender\"] == 'm']\n",
    "plt.plot(m_avgs[\"Fiscal Year\"], m_avgs[\"Total Salary Paid\"], label='Men')\n",
    "u_avgs = avg_data[avg_data[\"Gender\"] == 'unknown']\n",
    "plt.plot(u_avgs[\"Fiscal Year\"], u_avgs[\"Total Salary Paid\"], label='Unknown')\n",
    "plt.legend()\n",
    "plt.grid(True)\n",
    "plt.xlabel(\"Year\")\n",
    "plt.ylabel(\"Salary ($)\")\n",
    "plt.title(\"Average salary over time by gender\")\n",
    "plt.show()"
   ]
  }
 ],
 "metadata": {
  "kernelspec": {
   "display_name": "Python [default]",
   "language": "python",
   "name": "python3"
  },
  "language_info": {
   "codemirror_mode": {
    "name": "ipython",
    "version": 3
   },
   "file_extension": ".py",
   "mimetype": "text/x-python",
   "name": "python",
   "nbconvert_exporter": "python",
   "pygments_lexer": "ipython3",
   "version": "3.5.4"
  },
  "publish_permission": {
   "read": {},
   "write": {}
  },
  "publish_uri": "tsuri/application/ts/beakerx/dhevir/ghc-2018-state-of-iowa-data.ipynb",
  "widgets": {
   "application/vnd.jupyter.widget-state+json": {
    "state": {},
    "version_major": 2,
    "version_minor": 0
   }
  }
 },
 "nbformat": 4,
 "nbformat_minor": 2
}
